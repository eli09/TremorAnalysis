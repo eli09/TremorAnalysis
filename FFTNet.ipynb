{
  "cells": [
    {
      "cell_type": "code",
      "execution_count": 46,
      "metadata": {
        "id": "eeyZOcbc6Fql"
      },
      "outputs": [],
      "source": [
        "import os\n",
        "import torch\n",
        "import pickle\n",
        "import numpy as np\n",
        "from tqdm import tqdm\n",
        "from collections import Counter\n",
        "import matplotlib.pyplot as plt\n",
        "\n",
        "import torch.nn as nn\n",
        "import torch.optim as optim\n",
        "import torch.nn.functional as F\n",
        "from torch.utils.data import DataLoader, TensorDataset\n",
        "\n",
        "from sklearn.metrics import accuracy_score\n",
        "from sklearn.model_selection import GroupShuffleSplit\n",
        "from sklearn.metrics import accuracy_score, confusion_matrix\n",
        "from sklearn.model_selection import GroupShuffleSplit, train_test_split\n",
        "from sklearn.metrics import accuracy_score, confusion_matrix, ConfusionMatrixDisplay"
      ]
    },
    {
      "cell_type": "code",
      "execution_count": 47,
      "metadata": {},
      "outputs": [],
      "source": [
        "# balanced_labels\n",
        "def binary_one_hot(labels):\n",
        "    # Converts [1, 0, 0, 0, 0] -> [1, 0], [0, 1, 0, 0, 0] -> [0, 1]\n",
        "    first = labels[:, 0]\n",
        "    output_array = np.zeros((labels.shape[0], 2))\n",
        "    output_array[first == 1, 0] = 1\n",
        "    output_array[first != 1, 1] = 1\n",
        "    return output_array\n",
        "\n",
        "def rebalance_data(data, labels, subjects, desired_distribution=None):\n",
        "    \"\"\"\n",
        "    Rebalance the dataset so that each class has an equal number of samples or follow a desired distribution.\n",
        "    \n",
        "    Parameters:\n",
        "        data (numpy.ndarray or list): Input data array.\n",
        "        labels (numpy.ndarray or list): Corresponding labels for the data.\n",
        "        desired_distribution (dict or None): A dictionary specifying the desired proportion of each class, \n",
        "                                             e.g., {0: 0.4, 1: 0.4, 2: 0.2}. \n",
        "                                             If None, all classes will have equal proportion.\n",
        "\n",
        "    Returns:\n",
        "        balanced_data (list): Rebalanced dataset.\n",
        "        balanced_labels (list): Rebalanced labels.\n",
        "    \"\"\"\n",
        "    # Ensure input is numpy array for ease of manipulation\n",
        "    # If y_pred is in one-hot encoded format, convert it to class indices\n",
        "    if len(np.array(labels).shape) > 1:\n",
        "        labels = torch.argmax(torch.tensor(labels), dim=1).numpy()\n",
        "    data = np.array(data)\n",
        "    labels = np.array(labels)\n",
        "    \n",
        "    # Count the number of samples per class\n",
        "    label_counts = Counter(labels)\n",
        "    \n",
        "    # Determine the minimum class size or calculate based on desired distribution\n",
        "    if desired_distribution is None:\n",
        "        # Equal proportions for each class\n",
        "        min_class_size = min(label_counts.values())\n",
        "        desired_class_counts = {label: min_class_size for label in label_counts}\n",
        "    else:\n",
        "        total_samples = len(labels)\n",
        "        # Calculate the number of samples desired for each class based on the given proportions\n",
        "        desired_class_counts = {label: int(total_samples * proportion) for label, proportion in desired_distribution.items()}\n",
        "    \n",
        "    # Rebalance the dataset\n",
        "    balanced_data = []\n",
        "    balanced_labels = []\n",
        "    balanced_subjects = []\n",
        "    \n",
        "    for label, count in label_counts.items():\n",
        "        # Get indices of all samples for the current label\n",
        "        label_indices = np.where(labels == label)[0]\n",
        "        \n",
        "        if desired_class_counts[label] < count:\n",
        "            # Undersample: Randomly select the desired number of samples for the current label\n",
        "            selected_indices = np.random.choice(label_indices, size=desired_class_counts[label], replace=False)\n",
        "        else:\n",
        "            # Oversample: Randomly select with replacement to reach the desired number of samples\n",
        "            selected_indices = np.random.choice(label_indices, size=desired_class_counts[label], replace=True)\n",
        "        \n",
        "        # Add the selected data and labels to the balanced lists\n",
        "        balanced_data.extend(data[selected_indices])\n",
        "        balanced_labels.extend(labels[selected_indices])\n",
        "        balanced_subjects.extend(subjects[selected_indices])\n",
        "    \n",
        "    return np.array(balanced_data), np.array(balanced_labels), np.array(balanced_subjects)"
      ]
    },
    {
      "cell_type": "code",
      "execution_count": 48,
      "metadata": {},
      "outputs": [],
      "source": [
        "class CustomNN(nn.Module):\n",
        "    def __init__(self, input_shape, num_classes, hidden_layers=[64, 32], activation_fn=nn.ReLU):\n",
        "        super(CustomNN, self).__init__()\n",
        "        self.layers = nn.ModuleList()\n",
        "\n",
        "        if len(input_shape) == 1:  # Flat input (samples, 60)\n",
        "            prev_dim = input_shape[0]\n",
        "            for hidden_dim in hidden_layers:\n",
        "                self.layers.append(nn.Linear(prev_dim, hidden_dim))\n",
        "                self.layers.append(activation_fn())\n",
        "                prev_dim = hidden_dim\n",
        "            self.layers.append(nn.Linear(prev_dim, num_classes))\n",
        "\n",
        "        elif len(input_shape) > 1:  # 3D input (samples, 3, 300)\n",
        "            self.conv1 = nn.Conv1d(in_channels=3, out_channels=16, kernel_size=3, padding=1)\n",
        "            self.conv2 = nn.Conv1d(16, 32, kernel_size=3, padding=1)\n",
        "            conv_out_dim = 32 * 300  # Flatten the output of the convolutional layers\n",
        "            prev_dim = conv_out_dim\n",
        "            for hidden_dim in hidden_layers:\n",
        "                self.layers.append(nn.Linear(prev_dim, hidden_dim))\n",
        "                self.layers.append(activation_fn())\n",
        "                prev_dim = hidden_dim\n",
        "            self.layers.append(nn.Linear(prev_dim, num_classes))\n",
        "\n",
        "    def forward(self, x):\n",
        "        if x.dim() == 2:  # Flat input (samples, 60)\n",
        "            for layer in self.layers:\n",
        "                x = layer(x)\n",
        "            return x\n",
        "        elif x.dim() == 3:  # 3D input (samples, 3, 300)\n",
        "            x = F.relu(self.conv1(x))\n",
        "            x = F.relu(self.conv2(x))\n",
        "            x = x.view(x.size(0), -1)  # Flatten for fully connected layers\n",
        "            for layer in self.layers:\n",
        "                x = layer(x)\n",
        "            return x\n",
        "\n",
        "\n",
        "def test_nn(data, labels, subjects, epochs=50, lr=0.001, test_size=0.2, groups_split=True, multiclass=True, rebalance=True):\n",
        "    \n",
        "    if len(np.array(labels).shape) > 1:\n",
        "        labels = torch.argmax(torch.tensor(labels), dim=1).numpy()\n",
        "    if not multiclass:\n",
        "        labels = (labels > 0).astype(int)\n",
        "        if rebalance:\n",
        "            data, labels, subjects = rebalance_data(data, labels, subjects)\n",
        "    \n",
        "    # Split the data using GroupShuffleSplit to avoid data leakage across patients\n",
        "    if groups_split:\n",
        "        gss = GroupShuffleSplit(test_size=test_size, n_splits=1, random_state=42)\n",
        "        train_idx, test_idx = next(gss.split(data, labels, groups=subjects))\n",
        "    else:\n",
        "        # Use regular train_test_split if groups_split is False\n",
        "        train_idx, test_idx = train_test_split(\n",
        "            range(len(data)), test_size=test_size, random_state=42, stratify=labels\n",
        "        )\n",
        "\n",
        "    X_train, X_test = data[train_idx], data[test_idx]\n",
        "    y_train, y_test = labels[train_idx], labels[test_idx]\n",
        "\n",
        "    X_train = torch.FloatTensor(X_train)\n",
        "    X_test = torch.FloatTensor(X_test)\n",
        "    y_train = torch.LongTensor(y_train)\n",
        "    y_test = torch.LongTensor(y_test)\n",
        "\n",
        "    input_shape = X_train.shape[1:]\n",
        "\n",
        "    # Initialize the model, specifying input size and number of classes\n",
        "    input_shape = X_train.shape[1:] \n",
        "    num_classes = len(torch.unique(y_train))\n",
        "    model = CustomNN(input_shape=input_shape, num_classes=num_classes, hidden_layers=[128, 64, 64, 64, 32], activation_fn=nn.ReLU)\n",
        "    criterion = nn.CrossEntropyLoss()\n",
        "\n",
        "    # Now optimizer will receive model parameters correctly\n",
        "    optimizer = optim.Adam(model.parameters(), lr=lr)\n",
        "\n",
        "    # Step 5: Create DataLoader for batch training\n",
        "    train_dataset = TensorDataset(X_train, y_train)\n",
        "    test_dataset = TensorDataset(X_test, y_test)\n",
        "    train_loader = DataLoader(train_dataset, batch_size=32, shuffle=True)\n",
        "    test_loader = DataLoader(test_dataset, batch_size=32, shuffle=False)\n",
        "\n",
        "    # Training loop\n",
        "    for epoch in tqdm(range(epochs)):\n",
        "        model.train()\n",
        "        running_loss = 0.0\n",
        "        correct_predictions = 0\n",
        "        total_predictions = 0\n",
        "        for data, labels in train_loader:\n",
        "            optimizer.zero_grad()\n",
        "            outputs = model(data)\n",
        "            loss = criterion(outputs, labels)\n",
        "            loss.backward()\n",
        "            optimizer.step()\n",
        "            running_loss += loss.item()\n",
        "            # Calculate accuracy for this batch\n",
        "            _, predicted = torch.max(outputs, 1)  # Get class with highest score\n",
        "            correct_predictions += (predicted == labels).sum().item()  # Count correct predictions\n",
        "            total_predictions += labels.size(0)  # Count total samples in batch\n",
        "\n",
        "    \n",
        "        print(f\"Epoch {epoch+1}/{epochs}, Loss: {running_loss/len(train_loader)}\")\n",
        "\n",
        "    # Compute epoch-level training accuracy\n",
        "    training_accuracy = correct_predictions / total_predictions\n",
        "    print(f\"Training accuracy: {training_accuracy}\")\n",
        "\n",
        "    # Evaluate the model\n",
        "    model.eval()\n",
        "    y_pred = []\n",
        "    y_true = []\n",
        "\n",
        "    with torch.no_grad():\n",
        "        for data, labels in test_loader:\n",
        "            outputs = model(data)\n",
        "            _, preds = torch.max(outputs, 1)\n",
        "            y_pred.extend(preds.cpu().numpy())\n",
        "            y_true.extend(labels.cpu().numpy())\n",
        "\n",
        "    # Calculate accuracy\n",
        "    accuracy = accuracy_score(y_true, y_pred)\n",
        "    print(f\"Test Accuracy: {accuracy:.4f}\")\n",
        "\n",
        "    # Generate confusion matrix\n",
        "    conf_matrix = confusion_matrix(y_true, y_pred)\n",
        "    print(\"Confusion Matrix:\")\n",
        "    print(conf_matrix)\n",
        "\n",
        "    # Display the confusion matrix as a heatmap\n",
        "    disp = ConfusionMatrixDisplay(confusion_matrix=conf_matrix)\n",
        "    disp.plot(cmap='Blues')\n",
        "    plt.title('Confusion Matrix')\n",
        "    plt.show()\n",
        "\n",
        "    # Analyze major errors by identifying misclassifications\n",
        "    total_samples_per_class = np.sum(conf_matrix, axis=1)\n",
        "    error_counts = np.sum(conf_matrix, axis=1) - np.diag(conf_matrix)  # Errors per class\n",
        "    error_rates = error_counts / total_samples_per_class\n",
        "    major_errors = np.argsort(error_rates)[::-1]  # Sort in descending order of errors\n",
        "\n",
        "    print(\"\\nMajor errors occur in the following classes (sorted):\")\n",
        "    for i, cls in enumerate(major_errors):\n",
        "        print(f\"Class {cls}: {error_rates[cls]} misclassified samples\")\n",
        "        \n",
        "    return model"
      ]
    },
    {
      "cell_type": "code",
      "execution_count": 49,
      "metadata": {},
      "outputs": [
        {
          "name": "stderr",
          "output_type": "stream",
          "text": [
            "  0%|          | 0/10 [00:00<?, ?it/s]"
          ]
        },
        {
          "name": "stderr",
          "output_type": "stream",
          "text": [
            " 10%|█         | 1/10 [00:01<00:15,  1.77s/it]"
          ]
        },
        {
          "name": "stdout",
          "output_type": "stream",
          "text": [
            "Epoch 1/10, Loss: 0.782722941683222\n"
          ]
        },
        {
          "name": "stderr",
          "output_type": "stream",
          "text": [
            " 20%|██        | 2/10 [00:03<00:14,  1.83s/it]"
          ]
        },
        {
          "name": "stdout",
          "output_type": "stream",
          "text": [
            "Epoch 2/10, Loss: 0.710530882741868\n"
          ]
        },
        {
          "name": "stderr",
          "output_type": "stream",
          "text": [
            " 30%|███       | 3/10 [00:05<00:12,  1.81s/it]"
          ]
        },
        {
          "name": "stdout",
          "output_type": "stream",
          "text": [
            "Epoch 3/10, Loss: 0.6789965376293977\n"
          ]
        },
        {
          "name": "stderr",
          "output_type": "stream",
          "text": [
            " 40%|████      | 4/10 [00:07<00:10,  1.83s/it]"
          ]
        },
        {
          "name": "stdout",
          "output_type": "stream",
          "text": [
            "Epoch 4/10, Loss: 0.6565540910633078\n"
          ]
        },
        {
          "name": "stderr",
          "output_type": "stream",
          "text": [
            " 50%|█████     | 5/10 [00:08<00:08,  1.77s/it]"
          ]
        },
        {
          "name": "stdout",
          "output_type": "stream",
          "text": [
            "Epoch 5/10, Loss: 0.6430244434976693\n"
          ]
        },
        {
          "name": "stderr",
          "output_type": "stream",
          "text": [
            " 60%|██████    | 6/10 [00:10<00:07,  1.76s/it]"
          ]
        },
        {
          "name": "stdout",
          "output_type": "stream",
          "text": [
            "Epoch 6/10, Loss: 0.6316284637618584\n"
          ]
        },
        {
          "name": "stderr",
          "output_type": "stream",
          "text": [
            " 70%|███████   | 7/10 [00:12<00:05,  1.75s/it]"
          ]
        },
        {
          "name": "stdout",
          "output_type": "stream",
          "text": [
            "Epoch 7/10, Loss: 0.6229641728337683\n"
          ]
        },
        {
          "name": "stderr",
          "output_type": "stream",
          "text": [
            " 80%|████████  | 8/10 [00:14<00:03,  1.76s/it]"
          ]
        },
        {
          "name": "stdout",
          "output_type": "stream",
          "text": [
            "Epoch 8/10, Loss: 0.6152298175177332\n"
          ]
        },
        {
          "name": "stderr",
          "output_type": "stream",
          "text": [
            " 90%|█████████ | 9/10 [00:16<00:01,  1.80s/it]"
          ]
        },
        {
          "name": "stdout",
          "output_type": "stream",
          "text": [
            "Epoch 9/10, Loss: 0.6127866982114806\n"
          ]
        },
        {
          "name": "stderr",
          "output_type": "stream",
          "text": [
            "100%|██████████| 10/10 [00:17<00:00,  1.79s/it]"
          ]
        },
        {
          "name": "stdout",
          "output_type": "stream",
          "text": [
            "Epoch 10/10, Loss: 0.599530152128626\n",
            "Training accuracy: 0.7493943064809206\n",
            "Test Accuracy: 0.7411\n",
            "Confusion Matrix:\n",
            "[[2113  147    8    1    0]\n",
            " [ 466  252   17    4    0]\n",
            " [ 105   52   60   15    0]\n",
            " [  18    5   15   22    0]\n",
            " [   0    0    0    2    1]]\n"
          ]
        },
        {
          "name": "stderr",
          "output_type": "stream",
          "text": [
            "\n"
          ]
        },
        {
          "data": {
            "image/png": "[encoded data removed]",
            "text/plain": [
              "<Figure size 640x480 with 2 Axes>"
            ]
          },
          "metadata": {},
          "output_type": "display_data"
        },
        {
          "name": "stdout",
          "output_type": "stream",
          "text": [
            "\n",
            "Major errors occur in the following classes (sorted):\n",
            "Class 2: 0.7413793103448276 misclassified samples\n",
            "Class 4: 0.6666666666666666 misclassified samples\n",
            "Class 1: 0.6589986468200271 misclassified samples\n",
            "Class 3: 0.6333333333333333 misclassified samples\n",
            "Class 0: 0.06875275451740855 misclassified samples\n"
          ]
        }
      ],
      "source": [
        "# data_dir = r\"fft_files\\10s_window_all_scores_threshold_1\"\n",
        "# data_dir = r\"fft_files\\10s_multiclass_threshold_1\"\n",
        "# data_dir = r\"fft_files\\10s_all_multi_threshold_0\"\n",
        "data_dir = r\"fft_files\\10s_multi_threshold_1_all_tasks\"\n",
        "# data_dir = r\"fft_files\\10s_multi_threshold_0_no_1\"\n",
        "\n",
        "# Load the data\n",
        "fft_features = pickle.load(open(os.path.join(data_dir, 'WindowsFFT.p'), 'rb'))   # (n_windows, n_features)\n",
        "all_labels = pickle.load(open(os.path.join(data_dir, 'WindowsLabels.p'), 'rb'))      # (n_windows,) or (n_windows, n_labels)\n",
        "subjects = groups = pickle.load(open(os.path.join(data_dir, 'WindowsSubjects.p'), 'rb'))    # (n_windows,)\n",
        "# balanced_labels = np.delete(balanced_labels, 1, 1)  # delete second column of labels\n",
        "model_multi = test_nn(fft_features, all_labels, subjects, epochs=10, lr=0.001, test_size=0.2, groups_split=False, multiclass=True)\n"
      ]
    },
    {
      "cell_type": "code",
      "execution_count": 42,
      "metadata": {},
      "outputs": [
        {
          "name": "stderr",
          "output_type": "stream",
          "text": [
            " 10%|█         | 1/10 [00:01<00:09,  1.09s/it]"
          ]
        },
        {
          "name": "stdout",
          "output_type": "stream",
          "text": [
            "Epoch 1/10, Loss: 0.6309541389058455\n"
          ]
        },
        {
          "name": "stderr",
          "output_type": "stream",
          "text": [
            " 20%|██        | 2/10 [00:01<00:07,  1.02it/s]"
          ]
        },
        {
          "name": "stdout",
          "output_type": "stream",
          "text": [
            "Epoch 2/10, Loss: 0.5827334719965357\n"
          ]
        },
        {
          "name": "stderr",
          "output_type": "stream",
          "text": [
            " 30%|███       | 3/10 [00:03<00:06,  1.00it/s]"
          ]
        },
        {
          "name": "stdout",
          "output_type": "stream",
          "text": [
            "Epoch 3/10, Loss: 0.5525741451725537\n"
          ]
        },
        {
          "name": "stderr",
          "output_type": "stream",
          "text": [
            " 40%|████      | 4/10 [00:04<00:06,  1.03s/it]"
          ]
        },
        {
          "name": "stdout",
          "output_type": "stream",
          "text": [
            "Epoch 4/10, Loss: 0.5437428007714997\n"
          ]
        },
        {
          "name": "stderr",
          "output_type": "stream",
          "text": [
            " 50%|█████     | 5/10 [00:05<00:05,  1.09s/it]"
          ]
        },
        {
          "name": "stdout",
          "output_type": "stream",
          "text": [
            "Epoch 5/10, Loss: 0.5253683935031007\n"
          ]
        },
        {
          "name": "stderr",
          "output_type": "stream",
          "text": [
            " 60%|██████    | 6/10 [00:06<00:04,  1.13s/it]"
          ]
        },
        {
          "name": "stdout",
          "output_type": "stream",
          "text": [
            "Epoch 6/10, Loss: 0.5295141935348511\n"
          ]
        },
        {
          "name": "stderr",
          "output_type": "stream",
          "text": [
            " 70%|███████   | 7/10 [00:07<00:03,  1.11s/it]"
          ]
        },
        {
          "name": "stdout",
          "output_type": "stream",
          "text": [
            "Epoch 7/10, Loss: 0.5102518593252395\n"
          ]
        },
        {
          "name": "stderr",
          "output_type": "stream",
          "text": [
            " 80%|████████  | 8/10 [00:08<00:02,  1.13s/it]"
          ]
        },
        {
          "name": "stdout",
          "output_type": "stream",
          "text": [
            "Epoch 8/10, Loss: 0.5100466574481095\n"
          ]
        },
        {
          "name": "stderr",
          "output_type": "stream",
          "text": [
            " 90%|█████████ | 9/10 [00:09<00:01,  1.14s/it]"
          ]
        },
        {
          "name": "stdout",
          "output_type": "stream",
          "text": [
            "Epoch 9/10, Loss: 0.49276074617525784\n"
          ]
        },
        {
          "name": "stderr",
          "output_type": "stream",
          "text": [
            "100%|██████████| 10/10 [00:11<00:00,  1.11s/it]"
          ]
        },
        {
          "name": "stdout",
          "output_type": "stream",
          "text": [
            "Epoch 10/10, Loss: 0.4907686426717802\n",
            "Training accuracy: 0.7586790855207451\n",
            "Test Accuracy: 0.7620\n",
            "Confusion Matrix:\n",
            "[[797 237]\n",
            " [255 778]]\n"
          ]
        },
        {
          "name": "stderr",
          "output_type": "stream",
          "text": [
            "\n"
          ]
        },
        {
          "data": {
            "image/png": "[encoded data removed]",
            "text/plain": [
              "<Figure size 640x480 with 2 Axes>"
            ]
          },
          "metadata": {},
          "output_type": "display_data"
        },
        {
          "name": "stdout",
          "output_type": "stream",
          "text": [
            "\n",
            "Major errors occur in the following classes (sorted):\n",
            "Class 1: 0.2468538238141336 misclassified samples\n",
            "Class 0: 0.22920696324951645 misclassified samples\n"
          ]
        }
      ],
      "source": [
        "# data_dir = r\"fft_files\\10s_window_all_scores_threshold_1\"\n",
        "# data_dir = r\"fft_files\\10s_multiclass_threshold_1\"\n",
        "# data_dir = r\"fft_files\\10s_all_multi_threshold_0\"\n",
        "data_dir = r\"fft_files\\10s_multi_threshold_1_all_tasks\"\n",
        "# data_dir = r\"fft_files\\10s_multi_threshold_0_no_1\"\n",
        "\n",
        "# Load the data\n",
        "fft_features = pickle.load(open(os.path.join(data_dir, 'WindowsFFT.p'), 'rb'))   # (n_windows, n_features)\n",
        "all_labels = pickle.load(open(os.path.join(data_dir, 'WindowsLabels.p'), 'rb'))      # (n_windows,) or (n_windows, n_labels)\n",
        "subjects = groups = pickle.load(open(os.path.join(data_dir, 'WindowsSubjects.p'), 'rb'))    # (n_windows,)\n",
        "# balanced_labels = np.delete(balanced_labels, 1, 1)  # delete second column of labels\n",
        "model_binary_full = test_nn(fft_features, all_labels, subjects, epochs=10, lr=0.001, test_size=0.2, groups_split=False, multiclass=False)\n"
      ]
    },
    {
      "cell_type": "code",
      "execution_count": 45,
      "metadata": {},
      "outputs": [
        {
          "name": "stdout",
          "output_type": "stream",
          "text": [
            "Epoch 1/100, Loss: 0.6975555419921875\n",
            "Epoch 2/100, Loss: 0.6727781891822815\n",
            "Epoch 3/100, Loss: 0.6502791047096252\n",
            "Epoch 4/100, Loss: 0.6299456357955933\n",
            "Epoch 5/100, Loss: 0.611911416053772\n",
            "Epoch 6/100, Loss: 0.5958946347236633\n",
            "Epoch 7/100, Loss: 0.5815359950065613\n",
            "Epoch 8/100, Loss: 0.5686657428741455\n",
            "Epoch 9/100, Loss: 0.5570744276046753\n",
            "Epoch 10/100, Loss: 0.5465773344039917\n",
            "Epoch 11/100, Loss: 0.5369981527328491\n",
            "Epoch 12/100, Loss: 0.5282099843025208\n",
            "Epoch 13/100, Loss: 0.5200902819633484\n",
            "Epoch 14/100, Loss: 0.512535810470581\n",
            "Epoch 15/100, Loss: 0.5054592490196228\n",
            "Epoch 16/100, Loss: 0.498788058757782\n",
            "Epoch 17/100, Loss: 0.4924733340740204\n",
            "Epoch 18/100, Loss: 0.4864829480648041\n",
            "Epoch 19/100, Loss: 0.4808325171470642\n",
            "Epoch 20/100, Loss: 0.4755533039569855\n",
            "Epoch 21/100, Loss: 0.4706205427646637\n",
            "Epoch 22/100, Loss: 0.46607300639152527\n",
            "Epoch 23/100, Loss: 0.4620157778263092\n",
            "Epoch 24/100, Loss: 0.45856523513793945\n",
            "Epoch 25/100, Loss: 0.4557396471500397\n",
            "Epoch 26/100, Loss: 0.45345738530158997\n",
            "Epoch 27/100, Loss: 0.4516272246837616\n",
            "Epoch 28/100, Loss: 0.4501824975013733\n",
            "Epoch 29/100, Loss: 0.449041485786438\n",
            "Epoch 30/100, Loss: 0.4481309950351715\n",
            "Epoch 31/100, Loss: 0.4473823606967926\n",
            "Epoch 32/100, Loss: 0.4467499852180481\n",
            "Epoch 33/100, Loss: 0.44619131088256836\n",
            "Epoch 34/100, Loss: 0.44569993019104004\n",
            "Epoch 35/100, Loss: 0.4452691078186035\n",
            "Epoch 36/100, Loss: 0.4448908269405365\n",
            "Epoch 37/100, Loss: 0.4445561468601227\n",
            "Epoch 38/100, Loss: 0.4442344903945923\n",
            "Epoch 39/100, Loss: 0.44389137625694275\n",
            "Epoch 40/100, Loss: 0.44349291920661926\n",
            "Epoch 41/100, Loss: 0.4430290162563324\n",
            "Epoch 42/100, Loss: 0.44250673055648804\n",
            "Epoch 43/100, Loss: 0.44193825125694275\n",
            "Epoch 44/100, Loss: 0.4413338899612427\n",
            "Epoch 45/100, Loss: 0.44071367383003235\n",
            "Epoch 46/100, Loss: 0.44009482860565186\n",
            "Epoch 47/100, Loss: 0.43950018286705017\n",
            "Epoch 48/100, Loss: 0.43894287943840027\n",
            "Epoch 49/100, Loss: 0.4384264349937439\n",
            "Epoch 50/100, Loss: 0.4379485547542572\n",
            "Epoch 51/100, Loss: 0.4375050961971283\n",
            "Epoch 52/100, Loss: 0.4370906352996826\n",
            "Epoch 53/100, Loss: 0.43670767545700073\n",
            "Epoch 54/100, Loss: 0.43635278940200806\n",
            "Epoch 55/100, Loss: 0.4360235035419464\n",
            "Epoch 56/100, Loss: 0.435723215341568\n",
            "Epoch 57/100, Loss: 0.43545112013816833\n",
            "Epoch 58/100, Loss: 0.43519899249076843\n",
            "Epoch 59/100, Loss: 0.4349572956562042\n",
            "Epoch 60/100, Loss: 0.4347211420536041\n",
            "Epoch 61/100, Loss: 0.434482216835022\n",
            "Epoch 62/100, Loss: 0.43423402309417725\n",
            "Epoch 63/100, Loss: 0.4339785575866699\n",
            "Epoch 64/100, Loss: 0.4337192475795746\n",
            "Epoch 65/100, Loss: 0.43345943093299866\n",
            "Epoch 66/100, Loss: 0.43320155143737793\n",
            "Epoch 67/100, Loss: 0.43294593691825867\n",
            "Epoch 68/100, Loss: 0.43269237875938416\n",
            "Epoch 69/100, Loss: 0.4324408769607544\n",
            "Epoch 70/100, Loss: 0.43219348788261414\n",
            "Epoch 71/100, Loss: 0.4319525361061096\n",
            "Epoch 72/100, Loss: 0.4317208230495453\n",
            "Epoch 73/100, Loss: 0.43149977922439575\n",
            "Epoch 74/100, Loss: 0.4312900900840759\n",
            "Epoch 75/100, Loss: 0.43109074234962463\n",
            "Epoch 76/100, Loss: 0.43089956045150757\n",
            "Epoch 77/100, Loss: 0.43071475625038147\n",
            "Epoch 78/100, Loss: 0.4305352568626404\n",
            "Epoch 79/100, Loss: 0.43036070466041565\n",
            "Epoch 80/100, Loss: 0.43019115924835205\n",
            "Epoch 81/100, Loss: 0.4300267994403839\n",
            "Epoch 82/100, Loss: 0.42986682057380676\n",
            "Epoch 83/100, Loss: 0.4297107756137848\n",
            "Epoch 84/100, Loss: 0.429557740688324\n",
            "Epoch 85/100, Loss: 0.42940741777420044\n",
            "Epoch 86/100, Loss: 0.42926058173179626\n",
            "Epoch 87/100, Loss: 0.42911839485168457\n",
            "Epoch 88/100, Loss: 0.42898085713386536\n",
            "Epoch 89/100, Loss: 0.4288477301597595\n",
            "Epoch 90/100, Loss: 0.4287198781967163\n",
            "Epoch 91/100, Loss: 0.42859575152397156\n",
            "Epoch 92/100, Loss: 0.42847535014152527\n",
            "Epoch 93/100, Loss: 0.4283592104911804\n",
            "Epoch 94/100, Loss: 0.4282492697238922\n",
            "Epoch 95/100, Loss: 0.4281443953514099\n",
            "Epoch 96/100, Loss: 0.4280438721179962\n",
            "Epoch 97/100, Loss: 0.4279478192329407\n",
            "Epoch 98/100, Loss: 0.42785388231277466\n",
            "Epoch 99/100, Loss: 0.42776283621788025\n",
            "Epoch 100/100, Loss: 0.4276759624481201\n",
            "Evaluating on test\n",
            "Meta-Classifier Accuracy: 0.7932\n",
            "Confusion Matrix:\n",
            "[[2070  246]\n",
            " [ 437  550]]\n"
          ]
        },
        {
          "data": {
            "image/png": "[encoded data removed]",
            "text/plain": [
              "<Figure size 640x480 with 2 Axes>"
            ]
          },
          "metadata": {},
          "output_type": "display_data"
        },
        {
          "name": "stdout",
          "output_type": "stream",
          "text": [
            "Evaluating on all\n",
            "Meta-Classifier Accuracy: 0.8005\n",
            "Confusion Matrix:\n",
            "[[10209  1135]\n",
            " [ 2159  3008]]\n"
          ]
        },
        {
          "data": {
            "image/png": "[encoded data removed]",
            "text/plain": [
              "<Figure size 640x480 with 2 Axes>"
            ]
          },
          "metadata": {},
          "output_type": "display_data"
        }
      ],
      "source": [
        "class MetaClassifier(nn.Module):\n",
        "    def __init__(self, hidden_size=32):\n",
        "        super(MetaClassifier, self).__init__()\n",
        "        # Combine binary output (1 value) and multiclass output (class 0 probability)\n",
        "        self.fc1 = nn.Linear(2, hidden_size)  # We combine two inputs: binary output and multiclass class-0 probability\n",
        "        self.fc2 = nn.Linear(hidden_size, 1)  # Output for binary classification (0 or non-0)\n",
        "    \n",
        "    def forward(self, binary_logits, multiclass_logits):\n",
        "        # Ensure binary logits are squeezed to a 1D tensor\n",
        "        binary_logits = binary_logits.squeeze()\n",
        "\n",
        "        # Convert multiclass logits to probabilities and take the probability of class 0\n",
        "        multiclass_0_prob = F.softmax(multiclass_logits, dim=1)[:, 0].unsqueeze(1)\n",
        "        \n",
        "        # Combine binary output and multiclass class-0 probability\n",
        "        combined = torch.cat([binary_logits.unsqueeze(1), multiclass_0_prob], dim=1)\n",
        "        \n",
        "        # Forward pass through meta-classifier\n",
        "        x = F.relu(self.fc1(combined))\n",
        "        return torch.sigmoid(self.fc2(x))  # Sigmoid activation for binary output\n",
        "\n",
        "def train_meta_classifier(binary_model, multiclass_model, meta_model, data, labels_multiclass, subjects, num_epochs=10, lr=0.001, test_size=0.2, groups_split=True):\n",
        "    # Convert labels: class 0 vs non-0 (1, 2, 3, 4)\n",
        "    labels_binary = torch.FloatTensor(binary_one_hot(labels_multiclass))\n",
        "\n",
        "    # Split data into training and testing sets\n",
        "    if groups_split:\n",
        "        gss = GroupShuffleSplit(test_size=test_size, n_splits=1, random_state=42)\n",
        "        train_idx, test_idx = next(gss.split(data, labels_multiclass, groups=subjects))\n",
        "    else:\n",
        "        train_idx, test_idx = train_test_split(np.arange(len(data)), test_size=test_size, random_state=42)\n",
        "\n",
        "    # Split data and labels\n",
        "    X_train, X_test = data[train_idx], data[test_idx]\n",
        "    y_train_binary, y_test_binary = labels_binary[train_idx], labels_binary[test_idx]\n",
        "    y_train_multi, y_test_multi = labels_multiclass[train_idx], labels_multiclass[test_idx]\n",
        "\n",
        "    # Convert to tensors\n",
        "    X_train = torch.FloatTensor(X_train)\n",
        "    X_test = torch.FloatTensor(X_test)\n",
        "    y_train_binary = torch.FloatTensor(y_train_binary)\n",
        "    y_test_binary = torch.FloatTensor(y_test_binary)\n",
        "\n",
        "    # Prepare optimizer and loss function\n",
        "    optimizer = optim.Adam(meta_model.parameters(), lr=lr)\n",
        "    criterion = nn.BCELoss()\n",
        "\n",
        "    # Training loop\n",
        "    for epoch in range(num_epochs):\n",
        "        meta_model.train()\n",
        "        running_loss = 0.0\n",
        "\n",
        "        optimizer.zero_grad()\n",
        "\n",
        "        # Get outputs from both models (disable gradients for them)\n",
        "        with torch.no_grad():\n",
        "            binary_logits_train = binary_model(X_train)  # Binary classification logits\n",
        "            multiclass_logits_train = multiclass_model(X_train)  # Multiclass classification logits\n",
        "\n",
        "        # Forward pass through meta-classifier\n",
        "        outputs = meta_model(np.argmax(binary_logits_train, axis=1), multiclass_logits_train).squeeze()\n",
        "\n",
        "        # Compute loss\n",
        "        loss = criterion(outputs, np.argmax(y_train_binary, axis=1).float())\n",
        "\n",
        "        # Backpropagation and optimization\n",
        "        loss.backward()\n",
        "        optimizer.step()\n",
        "\n",
        "        running_loss += loss.item()\n",
        "        print(f\"Epoch {epoch + 1}/{num_epochs}, Loss: {running_loss}\")\n",
        "    print(\"Evaluating on test\")\n",
        "    # binary_model\n",
        "    evaluate_meta_classifier(binary_model, model_multi, meta_model, X_test, y_test_multi, threshold=0.5)\n",
        "    # evaluate_meta_classifier(model_binary, model_multi, meta_model, X_test, y_test_multi, threshold=0.5)\n",
        "    print(\"Evaluating on all\")\n",
        "    evaluate_meta_classifier(binary_model, model_multi, meta_model, data, labels_multiclass, threshold=0.5)\n",
        "    # evaluate_meta_classifier(model_binary, model_multi, meta_model, data, labels_multiclass, threshold=0.5)\n",
        "\n",
        "    \n",
        "def evaluate_meta_classifier(binary_model, multiclass_model, meta_model, X_test, labels_multiclass, threshold=0.5):\n",
        "    # Convert labels: class 0 vs non-0 (1, 2, 3, 4)\n",
        "    labels_binary = torch.FloatTensor(binary_one_hot(labels_multiclass))\n",
        "    binary_labels_num = np.argmax(labels_binary, axis=1).float()\n",
        "\n",
        "    # Convert to tensors\n",
        "    X_test = torch.FloatTensor(X_test)\n",
        "\n",
        "    meta_model.eval()\n",
        "    all_preds = []\n",
        "    all_labels = []\n",
        "\n",
        "    with torch.no_grad():\n",
        "        # Get outputs from both models\n",
        "        binary_logits = binary_model(X_test)\n",
        "        multiclass_logits = multiclass_model(X_test)\n",
        "\n",
        "        # Meta-classifier prediction\n",
        "        outputs = meta_model(np.argmax(binary_logits, axis=1), multiclass_logits).squeeze()\n",
        "        preds = (outputs > threshold).float()  # Threshold at 0.5 for binary classification\n",
        "\n",
        "        all_preds.extend(preds.cpu().numpy())\n",
        "        all_labels.extend(binary_labels_num.cpu().numpy())\n",
        "\n",
        "    # Calculate accuracy\n",
        "    accuracy = accuracy_score(all_labels, all_preds)\n",
        "    print(f\"Meta-Classifier Accuracy: {accuracy:.4f}\")\n",
        "\n",
        "    # Confusion matrix\n",
        "    conf_matrix = confusion_matrix(all_labels, all_preds)\n",
        "    print(\"Confusion Matrix:\")\n",
        "    print(conf_matrix)\n",
        "\n",
        "    # Step 9: Display the confusion matrix as a heatmap\n",
        "    disp = ConfusionMatrixDisplay(confusion_matrix=conf_matrix)\n",
        "    disp.plot(cmap='Blues')\n",
        "    plt.title('Confusion Matrix')\n",
        "    plt.show()\n",
        "\n",
        "    # Analyze major errors by identifying misclassifications\n",
        "    total_samples_per_class = np.sum(conf_matrix, axis=1)\n",
        "    error_counts = np.sum(conf_matrix, axis=1) - np.diag(conf_matrix)  # Errors per class\n",
        "    error_rates = error_counts / total_samples_per_class\n",
        "    major_errors = np.argsort(error_rates)[::-1]  # Sort in descending order of errors\n",
        "\n",
        "    return accuracy, conf_matrix\n",
        "\n",
        "    # Evaluate the model after training\n",
        "meta_model = MetaClassifier(hidden_size=32)\n",
        "\n",
        "train_meta_classifier(model_binary_full, model_multi, meta_model, fft_features, all_labels, subjects, num_epochs=100, lr=0.01, test_size=0.2, groups_split=False)\n"
      ]
    },
    {
      "cell_type": "code",
      "execution_count": 32,
      "metadata": {},
      "outputs": [],
      "source": []
    }
  ],
  "metadata": {
    "colab": {
      "provenance": []
    },
    "kernelspec": {
      "display_name": "Python 3",
      "name": "python3"
    },
    "language_info": {
      "codemirror_mode": {
        "name": "ipython",
        "version": 3
      },
      "file_extension": ".py",
      "mimetype": "text/x-python",
      "name": "python",
      "nbconvert_exporter": "python",
      "pygments_lexer": "ipython3",
      "version": "3.12.4"
    }
  },
  "nbformat": 4,
  "nbformat_minor": 0
}
